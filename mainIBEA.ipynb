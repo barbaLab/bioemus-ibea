{
 "cells": [
  {
   "cell_type": "markdown",
   "metadata": {},
   "source": [
    "## IBEA with DKL"
   ]
  },
  {
   "cell_type": "code",
   "execution_count": 1,
   "metadata": {},
   "outputs": [
    {
     "name": "stdout",
     "output_type": "stream",
     "text": [
      "lbound = [0.1  0.1  0.1  0.1  0.1  0.01]\n",
      "ubound = [0.5 1.  1.  1.  1.  0.1]\n",
      "Starting optimization:\n",
      "\tConcluded emulation genesis0, parameters: [0.11927249 0.71286671 0.81882646 0.82009773 0.96876753 0.04996178]\n",
      "\tConcluded emulation genesis1, parameters: [0.43249395 0.32191087 0.14525009 0.5386886  0.68521398 0.09288809]\n",
      "\tConcluded emulation genesis2, parameters: [0.39549361 0.32267987 0.56622985 0.69767547 0.36351848 0.08861525]\n",
      "Terminated parent generation, starting recombination\n",
      "\n",
      "\n",
      "\tProcessing couple of childrens 1\n",
      "\tConcluded emulation genesis3, parameters: [0.12752621 0.79304777 0.84424826 0.82607053 0.93090206 0.04920266]\n",
      "\tConcluded emulation genesis4, parameters: [0.12316938 0.73379865 0.76344113 0.7342855  1.         0.0478089 ]\n",
      "Terminated generation 1\n",
      "\n",
      "OPTIMIZATION TERMINATED\n",
      "Best configuration is the number 3 with parameters [0.12752621 0.79304777 0.84424826 0.82607053 0.93090206 0.04920266] and distances [0.37093115 0.0180081  0.12374749]\n",
      "120.82951951026917\n"
     ]
    }
   ],
   "source": [
    "from IBEAforBioemus.ibea import IBEA\n",
    "import numpy as np \n",
    "from IBEAforBioemus.objectives_computation import evaluate_objectives_DKL, clear_files, compute_goal_distr, load_goal, saveIO\n",
    "import warnings \n",
    "import time\n",
    "import sys\n",
    "\n",
    "''' 5 variables in this case are (in order): inh/exc ratio, max prob of connection, AMPA/NMDA ratio, NMDA syn weight, AMPA syn weight, synaptic noise.'''\n",
    "\n",
    "warnings.filterwarnings(\"ignore\",category=FutureWarning)\n",
    "warnings.filterwarnings(\"ignore\", category=RuntimeWarning)\n",
    "\n",
    "clear_files(\"/home/ubuntu/bioemus/data\", \".bin\")\n",
    "clear_files(\"/home/ubuntu/bioemus/config\", \".json\")\n",
    "clear_files(\"/home/ubuntu/bioemus/config\", \".txt\")\n",
    "\n",
    "# Save cell output in a custom class\n",
    "original_stdout = sys.stdout\n",
    "tee_stdout = saveIO(original_stdout)\n",
    "sys.stdout = tee_stdout\n",
    "\n",
    "alpha = 3\n",
    "fun = evaluate_objectives_DKL\n",
    "lbound = np.array([0.1, 0.1, 0.1, 0.1, 0.1, 0.01])\n",
    "# ubound = np.array([0.5, 0.5, 0.5, 1, 1, 0.1])\n",
    "ubound = np.array([0.5, 1, 1, 1, 1, 0.1])\n",
    "\n",
    "remaining_budget = np.inf\n",
    "n_offspring = 1\n",
    "max_generations = 1\n",
    "var = (ubound-lbound)/15\n",
    "print(f\"lbound = {lbound}\")\n",
    "print(f\"ubound = {ubound}\")\n",
    "\n",
    "goal = load_goal()\n",
    "goal_distr = compute_goal_distr(goal)\n",
    "\n",
    "solution = IBEA(kappa=0.05, alpha = alpha, n_offspring= n_offspring, max_generations= max_generations, seedit = 78, var=var, n_sbx=2, area_max=1)\n",
    "start = time.time()\n",
    "index, best_parameters, distances, true_distr, obj_monitor, fit_monitor = solution.ibea(fun, lbound, ubound, remaining_budget, goal_distr)\n",
    "print(f\"Best configuration is the number {index} with parameters {best_parameters} and distances {distances}\")\n",
    "end = time.time()\n",
    "print(end-start)\n",
    "\n",
    "# Save error values in a file\n",
    "with open(\"monitor.txt\", \"w\") as file:\n",
    "   file.write(\",\".join(map(str, fit_monitor)))\n",
    "\n",
    "# Save cell output in a .txt file\n",
    "sys.stdout = original_stdout\n",
    "captured_text = tee_stdout.getvalue()\n",
    "with open(\"Output.txt\", \"w\") as f:\n",
    "    f.write(captured_text)"
   ]
  },
  {
   "cell_type": "markdown",
   "metadata": {},
   "source": [
    "## IBEA with Medians"
   ]
  },
  {
   "cell_type": "code",
   "execution_count": null,
   "metadata": {},
   "outputs": [],
   "source": [
    "from IBEAforBioemus.ibea import IBEA\n",
    "import numpy as np \n",
    "from IBEAforBioemus.objectives_computation import evaluate_objectives_median, clear_files, compute_goal_median, load_goal\n",
    "import scipy.io\n",
    "import warnings \n",
    "import time\n",
    "''' 5 variables in this case are (in order): inh/exc ratio, max prob of connection, AMPA/NMDA ratio, NMDA syn weight, AMPA syn weight, synaptic noise.'''\n",
    "\n",
    "warnings.filterwarnings(\"ignore\",category=FutureWarning)\n",
    "warnings.filterwarnings(\"ignore\", category=RuntimeWarning)\n",
    "\n",
    "clear_files(\"/home/ubuntu/bioemus/data\", \".bin\")\n",
    "clear_files(\"/home/ubuntu/bioemus/config\", \".json\")\n",
    "clear_files(\"/home/ubuntu/bioemus/config\", \".txt\")\n",
    "\n",
    "alpha = 200\n",
    "fun = evaluate_objectives_median\n",
    "lbound = np.array([0.1, 0.1, 0.1, 0.1, 0.05, 0.01])\n",
    "ubound = np.array([1, 1, 1, 1, 1, 0.1])\n",
    "remaining_budget = np.inf\n",
    "n_offspring = 10\n",
    "max_generations = 50\n",
    "var = (ubound-lbound)/15\n",
    "print(f\"lbound = {lbound}\")\n",
    "print(f\"ubound = {ubound}\")\n",
    "\n",
    "\n",
    "goal = load_goal()\n",
    "\n",
    "goal_median = compute_goal_median(goal)\n",
    "\n",
    "solution = IBEA(kappa=0.05, alpha = alpha, n_offspring= n_offspring, max_generations= max_generations, seedit = 32, var=var, n_sbx=2)\n",
    "start = time.time()\n",
    "index, best_parameters, distances, true_distr, obj_monitor, fit_monitor = solution.ibea(fun, lbound, ubound, remaining_budget, goal_median)\n",
    "print(f\"Best configuration is the number {index} with parameters {best_parameters} and distances {distances}\")\n",
    "end = time.time()\n",
    "print(end-start)\n",
    "with open(\"monitor.txt\", \"w\") as file:\n",
    "   file.write(\",\".join(map(str, fit_monitor)))"
   ]
  },
  {
   "cell_type": "markdown",
   "metadata": {},
   "source": [
    "## Debug"
   ]
  },
  {
   "cell_type": "code",
   "execution_count": null,
   "metadata": {},
   "outputs": [],
   "source": [
    "from IBEAforBioemus.objectives_computation import compute_objectives, compute_goal_distr, do_analysis, load_goal\n",
    "import scipy\n",
    "import numpy as np\n",
    "\n",
    "goal = load_goal()\n",
    "\n",
    "goal_distr = compute_goal_distr(goal)\n",
    "CONFIG_NAME = 'genesis658'\n",
    "RASTER_LIST = CONFIG_NAME\n",
    "filename = \"/home/ubuntu/bioemus/data/raster_\" + CONFIG_NAME + \".bin\"\n",
    "individual_metrics = do_analysis(filename, RASTER_LIST, [0, 0, 0, 0, 0, 0])\n",
    "distances, true_distributions = compute_objectives(individual_metrics, goal_distr)"
   ]
  }
 ],
 "metadata": {
  "kernelspec": {
   "display_name": "IBEAvenv",
   "language": "python",
   "name": "python3"
  },
  "language_info": {
   "codemirror_mode": {
    "name": "ipython",
    "version": 3
   },
   "file_extension": ".py",
   "mimetype": "text/x-python",
   "name": "python",
   "nbconvert_exporter": "python",
   "pygments_lexer": "ipython3",
   "version": "3.10.12"
  }
 },
 "nbformat": 4,
 "nbformat_minor": 2
}
